{
 "metadata": {
  "name": "",
  "signature": "sha256:f6d14ffa51f3b2ea1f848b9e7e8247d73998b8d0f383bc3f1cab2db0ca2a4a67"
 },
 "nbformat": 3,
 "nbformat_minor": 0,
 "worksheets": [
  {
   "cells": [
    {
     "cell_type": "heading",
     "level": 1,
     "metadata": {},
     "source": [
      "Project management"
     ]
    },
    {
     "cell_type": "heading",
     "level": 2,
     "metadata": {},
     "source": [
      "Constraints"
     ]
    },
    {
     "cell_type": "markdown",
     "metadata": {},
     "source": [
      "A project is:\n",
      "- A set of activites: development,\n",
      "- To achieve a **goal**: deliver some features,\n",
      "- While managing constraints : \n",
      "    - **Time** \n",
      "    - **Workers** (seen as a cost)."
     ]
    },
    {
     "cell_type": "markdown",
     "metadata": {},
     "source": [
      "The main worry must be the **quality** of the realisation and the **satisfaction** of each stakeholder."
     ]
    },
    {
     "cell_type": "markdown",
     "metadata": {},
     "source": [
      "For further information, see:\n",
      "- The project management triangle: *schedule (time) - scope (goal) - cost*,\n",
      "- The project diamond model: *time - quality - scope (goal) - cost*.\n",
      "\n",
      "| Triangle      | Diamond      |\n",
      "| - |-|\n",
      "| <img src=\"images/triangle.jpg\"> | <img src=\"images/diamond.jpg\"> |\n",
      " \n",
      "\n",
      "> Project Management: A Systems Approach to Planning, Scheduling, and Controlling - Harold R. Kerzner\n",
      "\n",
      "<!-- -->\n",
      "\n",
      "> Reinventing Project Management: The Diamond Approach To Successful Growth And Innovation - Aaron J. Shenhar, Dov Dvir"
     ]
    },
    {
     "cell_type": "heading",
     "level": 2,
     "metadata": {},
     "source": [
      "Roles"
     ]
    },
    {
     "cell_type": "markdown",
     "metadata": {},
     "source": [
      "To know **who does what**, you have to define the roles on the project:\n",
      "- A potential customer,\n",
      "- A project manager,\n",
      "- Software developers,\n",
      "- Software testers,\n",
      "- End users."
     ]
    },
    {
     "cell_type": "markdown",
     "metadata": {},
     "source": [
      "You may define the responsibilities in a RACI document: an assignment matrix that declares for each key task\n",
      "- Who is **Responsible** ie. the one who does the work,\n",
      "- Who is the **Approver** ie. the one that takes the decisions,\n",
      "- Who can be **Consulted** ie. the one to be consulted before taking a decision,\n",
      "- Who needs to be **Informed** ie. the one to be informed that a decision has been taken.\n",
      "\n",
      ">A Guide to the Project Management Body of Knowledge: PMBOK "
     ]
    },
    {
     "cell_type": "markdown",
     "metadata": {},
     "source": [
      "risks of wrong management for each involved person (cf roles)"
     ]
    },
    {
     "cell_type": "heading",
     "level": 2,
     "metadata": {},
     "source": [
      "Models"
     ]
    },
    {
     "cell_type": "markdown",
     "metadata": {},
     "source": [
      "famous examples of failure"
     ]
    },
    {
     "cell_type": "markdown",
     "metadata": {},
     "source": [
      "Some well-known development models:\n",
      "  - Code and fix,\n",
      "  - Waterfall model,\n",
      "  - V model: *an improved waterfall model*,\n",
      "  - Agile model: *a cooperative and experimental model, eventually incremental*."
     ]
    },
    {
     "cell_type": "markdown",
     "metadata": {},
     "source": [
      " You will **choose a method depending on some parameters**, eg.:\n",
      " - *Fixed features* + *a lot of stakeholder* => **a V model**\n",
      " - A development team composed by *less than around then people* + a time box *less than two years* => **an agile approach**"
     ]
    },
    {
     "cell_type": "heading",
     "level": 2,
     "metadata": {},
     "source": [
      "Waterfall and V models"
     ]
    },
    {
     "cell_type": "markdown",
     "metadata": {},
     "source": [
      "These are **plan driven** models, based on the idea that requirements can be defined at the beginning of the project."
     ]
    },
    {
     "cell_type": "heading",
     "level": 3,
     "metadata": {},
     "source": [
      "Waterfall model"
     ]
    },
    {
     "cell_type": "markdown",
     "metadata": {},
     "source": [
      "| Process |\n",
      "| - |\n",
      "| Feasibility *analysis* and validation, definition of *requirements* and validation |\n",
      "| *Design* and verification, *detailed design* and verification |\n",
      "| *Implementation* and unit testing, *integration* and integration testing |\n",
      "| *Deployment* and acceptance testing |\n",
      "| Maintenance |"
     ]
    },
    {
     "cell_type": "markdown",
     "metadata": {},
     "source": [
      "<img src=\"images/waterfall.png\">"
     ]
    },
    {
     "cell_type": "heading",
     "level": 4,
     "metadata": {},
     "source": [
      "Advantages"
     ]
    },
    {
     "cell_type": "markdown",
     "metadata": {},
     "source": [
      "- Easy management."
     ]
    },
    {
     "cell_type": "heading",
     "level": 4,
     "metadata": {},
     "source": [
      "Disadvantages"
     ]
    },
    {
     "cell_type": "markdown",
     "metadata": {},
     "source": [
      "- Testing after coding: defects tracked late,\n",
      "- No working software until the end of the project."
     ]
    },
    {
     "cell_type": "heading",
     "level": 4,
     "metadata": {},
     "source": [
      "When to use it?"
     ]
    },
    {
     "cell_type": "markdown",
     "metadata": {},
     "source": [
      "- Well-known and fixed requirements,\n",
      "- Short project."
     ]
    },
    {
     "cell_type": "markdown",
     "metadata": {},
     "source": [
      "> Royce, W. (1970). \"Managing the Development of Large Software Systems\", IEEE Wescon, August 1970."
     ]
    },
    {
     "cell_type": "heading",
     "level": 3,
     "metadata": {},
     "source": [
      "V model"
     ]
    },
    {
     "cell_type": "markdown",
     "metadata": {},
     "source": [
      "| Project definition | Project test and integration\n",
      "| - | - |\n",
      "| *Analysis* | Maintenance\n",
      "| Functional *requirements* -> architecture | Acceptance testing\n",
      "| Detailed *design* | Integration testing\n",
      "| *Implementation* | Unit test"
     ]
    },
    {
     "cell_type": "markdown",
     "metadata": {},
     "source": [
      "<img src=\"images/v-model.png\">"
     ]
    },
    {
     "cell_type": "heading",
     "level": 4,
     "metadata": {},
     "source": [
      "Advantages"
     ]
    },
    {
     "cell_type": "markdown",
     "metadata": {},
     "source": [
      "- Testing before coding: defects tracked early."
     ]
    },
    {
     "cell_type": "heading",
     "level": 4,
     "metadata": {},
     "source": [
      "Disadvantages"
     ]
    },
    {
     "cell_type": "markdown",
     "metadata": {},
     "source": [
      "- No prototypes,\n",
      "- A lot of documentation to maintain."
     ]
    },
    {
     "cell_type": "heading",
     "level": 4,
     "metadata": {},
     "source": [
      "When to use it?"
     ]
    },
    {
     "cell_type": "markdown",
     "metadata": {},
     "source": [
      "- Fixed requirements,\n",
      "- Small to medium sized project."
     ]
    },
    {
     "cell_type": "heading",
     "level": 2,
     "metadata": {},
     "source": [
      "Agile methods"
     ]
    },
    {
     "cell_type": "markdown",
     "metadata": {},
     "source": [
      "The goal is a **continuous enhancement**."
     ]
    },
    {
     "cell_type": "markdown",
     "metadata": {},
     "source": [
      "The way is made of:\n",
      "- Good working conditions: **individuals and interactions** *over* processes and tools,\n",
      "- Frequent potentially consumable solutions: **working software** *over* comprehensive documentation,\n",
      "- A strong cooperation between developers and users: **customer collaboration** *over* contract negociation,\n",
      "- Possible requirement changes: **responding to change** *over* following a plan."
     ]
    },
    {
     "cell_type": "markdown",
     "metadata": {},
     "source": [
      "> Manifesto for Agile Software Development\", Agile Alliance, 2001"
     ]
    },
    {
     "cell_type": "markdown",
     "metadata": {},
     "source": [
      "These methods are often based on an **iterative and incremental model**.\n",
      "\n",
      "| Process |\n",
      "| - |\n",
      "| Plan: *requirements* (backlog composed by items) |\n",
      "| Collaborate: **iteration** (*unit tests and implementation*) with daily review |\n",
      "| Deliver: **release** a *potentially shippable increment* |\n",
      "| **Feedback** |"
     ]
    },
    {
     "cell_type": "markdown",
     "metadata": {},
     "source": [
      "<img src=\"images/agile.png\">"
     ]
    },
    {
     "cell_type": "markdown",
     "metadata": {},
     "source": [
      "For each iteration, cost and schedule are fixed = **value (scope) driven methods**.\n"
     ]
    },
    {
     "cell_type": "heading",
     "level": 3,
     "metadata": {},
     "source": [
      "The eXtreme Programming methologoly"
     ]
    },
    {
     "cell_type": "heading",
     "level": 4,
     "metadata": {},
     "source": [
      "XP's roles"
     ]
    },
    {
     "cell_type": "markdown",
     "metadata": {},
     "source": [
      "- A customer that relates **user stories** (how he wants to use the system),\n",
      "- A project manager that can be a **tracker** (stand up meetings) and a **coach** (technical support),\n",
      "- Software developers,\n",
      "- Software testers."
     ]
    },
    {
     "cell_type": "heading",
     "level": 4,
     "metadata": {},
     "source": [
      "XP's four values"
     ]
    },
    {
     "cell_type": "markdown",
     "metadata": {},
     "source": [
      "- Communication between customer and developers,\n",
      "- Simplicity: as simple as possible, at a moment,\n",
      "- Feedback: tests for developpers, feature for the customer,\n",
      "- Courage: try and refactor."
     ]
    },
    {
     "cell_type": "heading",
     "level": 4,
     "metadata": {},
     "source": [
      "XP's practices"
     ]
    },
    {
     "cell_type": "heading",
     "level": 5,
     "metadata": {},
     "source": [
      "Feedback"
     ]
    },
    {
     "cell_type": "markdown",
     "metadata": {},
     "source": [
      "- Pair programming\n",
      "- Planning game \n",
      "    - Tutorial: for each group, 1 criterion, 10 countries\n",
      "- Test-driven development\n",
      "- Whole team at one place, customer and developers"
     ]
    },
    {
     "cell_type": "heading",
     "level": 5,
     "metadata": {},
     "source": [
      "Continuous process"
     ]
    },
    {
     "cell_type": "markdown",
     "metadata": {},
     "source": [
      "- Continuous integration\n",
      "- Refactoring or design improvement\n",
      "- Small releases"
     ]
    },
    {
     "cell_type": "heading",
     "level": 5,
     "metadata": {},
     "source": [
      "Shared understanding"
     ]
    },
    {
     "cell_type": "markdown",
     "metadata": {},
     "source": [
      "- Coding standards\n",
      "- Collective code ownership\n",
      "- Simple design\n",
      "- System metaphor (a shared language)"
     ]
    },
    {
     "cell_type": "heading",
     "level": 5,
     "metadata": {},
     "source": [
      "Programmer welfare"
     ]
    },
    {
     "cell_type": "markdown",
     "metadata": {},
     "source": [
      "- Sustainable pace"
     ]
    },
    {
     "cell_type": "heading",
     "level": 5,
     "metadata": {},
     "source": [
      "Coding"
     ]
    },
    {
     "cell_type": "markdown",
     "metadata": {},
     "source": [
      "- The customer is always available\n",
      "- Code the unit test first\n",
      "- Only one pair integrates code at a time\n",
      "- Leave optimization until last\n",
      "- No overtime"
     ]
    },
    {
     "cell_type": "heading",
     "level": 5,
     "metadata": {},
     "source": [
      "Testing"
     ]
    },
    {
     "cell_type": "markdown",
     "metadata": {},
     "source": [
      "- All code must have unit tests\n",
      "- All code must pass all unit tests before it can be released.\n",
      "- When a bug is found tests are created before the bug is addressed (a bug is not an error in logic, it is a test that was not written)\n",
      "- Acceptance tests are run often and the results are published"
     ]
    },
    {
     "cell_type": "markdown",
     "metadata": {},
     "source": [
      "<img src=\"images/xp.png\">"
     ]
    },
    {
     "cell_type": "heading",
     "level": 3,
     "metadata": {},
     "source": [
      "Scrum"
     ]
    },
    {
     "cell_type": "heading",
     "level": 4,
     "metadata": {},
     "source": [
      "Scrum's roles"
     ]
    },
    {
     "cell_type": "markdown",
     "metadata": {},
     "source": [
      "- A **product owner** that represents the customer and is the *stakeholder of the product* (for the end users),\n",
      "- A **Scrum master** that is the *stakeholder of the process* (daily scrum),\n",
      "- A **development team** composed by *self-managed* software developers, software testers"
     ]
    },
    {
     "cell_type": "heading",
     "level": 4,
     "metadata": {},
     "source": [
      "Advantages"
     ]
    },
    {
     "cell_type": "markdown",
     "metadata": {},
     "source": [
      "- Testing before coding: defects tracked early,\n",
      "- **Frequent** potentialy shippable **delivery**,\n",
      "- Adaptation to **change**,\n",
      "- Strong communication,\n",
      "- **Satisfaction** of each stakeholder, from customer to developers."
     ]
    },
    {
     "cell_type": "heading",
     "level": 4,
     "metadata": {},
     "source": [
      "Disadvantages"
     ]
    },
    {
     "cell_type": "markdown",
     "metadata": {},
     "source": [
      "- Hard schedule assessment at the beginning,\n",
      "- Needs an involved product owner,\n",
      "- Needs most of senior programmers."
     ]
    },
    {
     "cell_type": "heading",
     "level": 4,
     "metadata": {},
     "source": [
      "When to use it?"
     ]
    },
    {
     "cell_type": "markdown",
     "metadata": {},
     "source": [
      "- Changes in the requirements,\n",
      "- Less than around then developpers,\n",
      "- Project with a time box less than two years."
     ]
    },
    {
     "cell_type": "markdown",
     "metadata": {},
     "source": []
    },
    {
     "cell_type": "markdown",
     "metadata": {},
     "source": []
    },
    {
     "cell_type": "markdown",
     "metadata": {},
     "source": [
      "quality = working software or ROI\n",
      "\n",
      "- responding to change (flexibility)\n",
      "- customer collaboration (visibility)\n",
      "- individuals and interactions (feedback)\n",
      "- working software (quality) -> test first TDD"
     ]
    },
    {
     "cell_type": "markdown",
     "metadata": {},
     "source": [
      "pair programming (XP), code review"
     ]
    },
    {
     "cell_type": "markdown",
     "metadata": {},
     "source": [
      "product backlog -> sprint backlog -> sprint with daily stand up meetings -> potentially shippable product increment"
     ]
    },
    {
     "cell_type": "markdown",
     "metadata": {},
     "source": [
      "quality improvement = PDCA Plan Do Check Act/Adjust (introspection) \n",
      "traditional: only 1 PDCA \n",
      "Scrum: 3 PDCA = \n",
      "    1- customer communication\n",
      "      Check = CCC -> Adjust = product backlog -> Plan = customer -> Do = demonstration (product owner)\n",
      "    2- working software\n",
      "      Check = daily meeting -> Adjust -> Plan -> Do\n",
      "    3- collaboration and responsabilities\n",
      "      Check -> Adjust = sprint -> Plan = developer -> Do = retrospective\n",
      "      \n",
      "estimation t\u00e2ches en heures id\u00e9ales"
     ]
    },
    {
     "cell_type": "markdown",
     "metadata": {},
     "source": [
      "epics, themes, stories, cards, lines <-> unit tests"
     ]
    },
    {
     "cell_type": "markdown",
     "metadata": {},
     "source": []
    }
   ],
   "metadata": {}
  }
 ]
}