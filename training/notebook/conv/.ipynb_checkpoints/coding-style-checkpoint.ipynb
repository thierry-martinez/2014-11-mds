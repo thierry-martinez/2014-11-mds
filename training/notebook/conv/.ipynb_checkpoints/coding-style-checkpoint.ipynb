{
 "metadata": {
  "name": "",
  "signature": "sha256:5355bb61dfb6cf1408900547ba3086c04c61de208d8c6e4d8d70ad9bbd5789ae"
 },
 "nbformat": 3,
 "nbformat_minor": 0,
 "worksheets": [
  {
   "cells": [
    {
     "cell_type": "code",
     "collapsed": false,
     "input": [],
     "language": "python",
     "metadata": {},
     "outputs": []
    }
   ],
   "metadata": {}
  }
 ]
}