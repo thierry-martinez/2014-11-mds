{
 "metadata": {
  "name": "",
  "signature": "sha256:5a2ccca88d246f564e9122b3b8a6c1b2832abae476b9a04ef9f2633cd17f25d0"
 },
 "nbformat": 3,
 "nbformat_minor": 0,
 "worksheets": [
  {
   "cells": [
    {
     "cell_type": "markdown",
     "metadata": {},
     "source": [
      "Tutorial #1: GitHub and CMake\n",
      "=============================\n",
      "\n",
      "- Create a GitHub account.\n",
      "- Clone the repository: https://github.com/thierry-martinez/2014-11-mds/\n",
      "- Check that you can run `make` in the `tetris/` directory of the project and that you can play Tetris by running `tetris/tetris`.\n",
      "- Adapt the `Makefile` into a `CMakeLists.txt` file.\n",
      "- Check that `CMake` is able to build the project properly.\n",
      "- Commit your changes.\n",
      "- Create your fork and make a pull request for your changes.\n",
      "- Instead of a fork, change your commit so that it applies to a personal branch and push it to the server.\n"
     ]
    }
   ],
   "metadata": {}
  }
 ]
}