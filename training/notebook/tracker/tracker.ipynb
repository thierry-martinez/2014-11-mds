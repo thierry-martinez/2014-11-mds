{
 "metadata": {
  "name": "",
  "signature": "sha256:6fb06aeb380473d72a6d4bec2e0c73847e2540d00a851a8038b1483c398c126f"
 },
 "nbformat": 3,
 "nbformat_minor": 0,
 "worksheets": [
  {
   "cells": [
    {
     "cell_type": "heading",
     "level": 1,
     "metadata": {},
     "source": [
      "Issue tracker"
     ]
    },
    {
     "cell_type": "markdown",
     "metadata": {},
     "source": [
      "<img src=\"images/cnr.png\">"
     ]
    },
    {
     "cell_type": "heading",
     "level": 2,
     "metadata": {},
     "source": [
      "Ways to communicate"
     ]
    },
    {
     "cell_type": "markdown",
     "metadata": {},
     "source": [
      "Within the time span of a product life, there are many communication end-points:\n",
      "\n",
      "- *between developers*: notify bugs, plan new features and milestones, suggest refactoring, etc.\n",
      "- *from developers to users*: alert for new releases, known bugs, future milestones, etc.\n",
      "- *from users to developers*: notify bugs, send wish lists, etc.\n",
      "- *between users*: exchange about user experience.\n",
      "\n",
      "And there are many possible communication channels:\n",
      "\n",
      "- forums,\n",
      "- mailing-lists,\n",
      "- **tracking tools**."
     ]
    },
    {
     "cell_type": "heading",
     "level": 2,
     "metadata": {},
     "source": [
      "Tracking tools"
     ]
    },
    {
     "cell_type": "markdown",
     "metadata": {},
     "source": [
      "**A tracking tool will help to *gather* `issues` (bugs, features, wishes, milestones,...) and to *track* them.** Each issue is associated with \n",
      "- a discussion panel, \n",
      "- a severity, \n",
      "- eventually a developer to handle it \n",
      "- and a status to be followed (Is it solved? wwll it be in the next release?)."
     ]
    },
    {
     "cell_type": "markdown",
     "metadata": {},
     "source": [
      "There exists a lot of tracking tools. Most of them are **exposed as a web interface**. Some of them can be **associated with the version control system** to relate issues with revisions or branches that solved them:\n",
      "\n",
      "- Mantis\n",
      "- Bugzilla\n",
      "- Apache Bloodhound\n",
      "- Hosted in a forge: SourceForge, GNU Savannah, GitHub, Bitbucket, etc."
     ]
    },
    {
     "cell_type": "heading",
     "level": 2,
     "metadata": {},
     "source": [
      "The GitHub issue tracker"
     ]
    },
    {
     "cell_type": "markdown",
     "metadata": {},
     "source": [
      "We will use the issue tracker hosted in GitHub.\n",
      "\n",
      "Clic on the _Issues_ button, the _New issue_ button allows developers or authorised users to fill a new issue.\n",
      "\n",
      "<img name=\"Issue link\" src=\"images/link.png\">"
     ]
    },
    {
     "cell_type": "markdown",
     "metadata": {},
     "source": [
      "The issues list is divided into **opened issues and closed issues**. Issues appear in the issues lists with:\n",
      "- their title,\n",
      "- their subset of *labels*,\n",
      "- who submitted them,\n",
      "- and how long they have been submitted.\n",
      "\n",
      "The **subset of labels** is taken from a set defined on the project level (_Labels_ tab). The set of labels and their semantics is up to the project policy.\n",
      "\n",
      "*The description that accompanies an issue* should explain how to **reproduce** it and what is expected. If the description is not enough to reproduce the issue, *the discussion feed* that follows the issue should guide the submitter to elaborate that.\n",
      "\n",
      "**Solving an issue is usually done in a specific branch or fork:** when closing an issue, this issue can be associated to the pull request that fixes it."
     ]
    },
    {
     "cell_type": "heading",
     "level": 2,
     "metadata": {},
     "source": [
      "Reproducibility"
     ]
    },
    {
     "cell_type": "markdown",
     "metadata": {},
     "source": [
      "*In the case of a bug*, the submitter of an issue should **describe how to reproduce the issue**.\n",
      "\n",
      "It will usually take the form of a sequence of operations that leads from the start of the program to the rise of the bug. The bug may be always reproducible or randomly reproducible, either frequently or sparsely: the reproducibility frequency should be described as well.\n",
      "\n",
      "The submitter should **isolate the bug** before submitting it, by finding a reasonably short sequence that reproduces it. In other words, the user should **give a minimal complete example** that enables the developer to reproduce the bug. \n",
      "- Complete in the sense that the described steps are enough to reproduce the bug. \n",
      "- Minimal in the sense that there is no step that can be removed from the sequence while the bug still stands (locally minimal).\n",
      "\n",
      "*In the particular case of a bug relatively to a particular input* (typically for a software that takes an input file in parameter), this input should be short as well, complete and minimal in the sense that shortening it will make the bug disappear.\n",
      "\n",
      "If it is relevant, the submitter should **specify the version of the software where this bug occurs** (typically, for a regression, that is to say for a bug that did not exist in a previous version and that appeared in newer versions) and may have to describe the environment in which the bug occurs (operating system, versions of libraries...)."
     ]
    },
    {
     "cell_type": "heading",
     "level": 2,
     "metadata": {},
     "source": [
      "Labels and issue sorting"
     ]
    },
    {
     "cell_type": "markdown",
     "metadata": {},
     "source": [
      "In most projects, issues are sorted through a multidimensional label systems. Some issue trackers like Bugzilla or Mantis have built-in label dimensions for typical developer concerns relatively to an issue:\n",
      "- **kind of issue**: feature request or bug report,\n",
      "- **severity**: critical, high, medium, low.\n",
      "\n",
      "> GitHub label system allows users to define the points in each dimension as labels, and then each issue will pick a point in each dimension to form its label subset (for example, `{feature request, medium}`)."
     ]
    },
    {
     "cell_type": "heading",
     "level": 2,
     "metadata": {},
     "source": [
      "Timeline"
     ]
    },
    {
     "cell_type": "markdown",
     "metadata": {},
     "source": [
      "Milestones can be associated to issues to specify that **they should be solved before a certain point** in the project development path."
     ]
    },
    {
     "cell_type": "heading",
     "level": 2,
     "metadata": {},
     "source": [
      "Issues and pull requests"
     ]
    },
    {
     "cell_type": "markdown",
     "metadata": {},
     "source": [
      "Pull requests can often be **associated** to issues."
     ]
    }
   ],
   "metadata": {}
  }
 ]
}