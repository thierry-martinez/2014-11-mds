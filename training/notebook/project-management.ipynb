{
 "metadata": {
  "celltoolbar": "Slideshow",
  "name": "",
  "signature": "sha256:67449f787fbf8452d5e85a46628b1298f6124b038e995462ea5b1e9095b15ff0"
 },
 "nbformat": 3,
 "nbformat_minor": 0,
 "worksheets": [
  {
   "cells": [
    {
     "cell_type": "heading",
     "level": 1,
     "metadata": {},
     "source": [
      "Project management: what is it, what is for ?"
     ]
    },
    {
     "cell_type": "markdown",
     "metadata": {},
     "source": [
      "- To know who does what, you have to define the roles:\n",
      "      - customer\n",
      "      - project manager\n",
      "      - software developer\n",
      "      - software tester\n",
      "      - end user\n",
      "\n",
      "- Potentially, you can define the responsibilities in a RACI document: an assignment matrix that declares for each key task\n",
      "    - who is the Responsible ie. the one who does the work\n",
      "    - who is the Approver ie. the one that takes the decisions\n",
      "    - who can be Consulted ie. the one to be consulted before taking a decision\n",
      "    - who needs to be Informed ie. the one to be informed that a decision has been taken"
     ]
    },
    {
     "cell_type": "markdown",
     "metadata": {},
     "source": [
      "  - parameters: \n",
      "      team size, \n",
      "      team experience, \n",
      "      release date, ..."
     ]
    },
    {
     "cell_type": "markdown",
     "metadata": {},
     "source": [
      "  - brief story of developments models"
     ]
    },
    {
     "cell_type": "markdown",
     "metadata": {},
     "source": [
      "  - famous examples of failure"
     ]
    },
    {
     "cell_type": "markdown",
     "metadata": {},
     "source": [
      "  - risks of wrong management for each involved person (cf roles)"
     ]
    },
    {
     "cell_type": "heading",
     "level": 1,
     "metadata": {},
     "source": [
      " Waterfall, V-Model: pros and cons"
     ]
    },
    {
     "cell_type": "markdown",
     "metadata": {},
     "source": [
      "  - plan driven: fixed features \n",
      "\n",
      "      Waterfall: analysis -> design -> develop -> test -> deploy\n",
      "\n",
      "      V-Model: \n",
      "          functional requirements (general, detailed architecture), \n",
      "          design (developer), \n",
      "          implementation, \n",
      "          tests (unit, integration, validation), \n",
      "          maintenance\n"
     ]
    },
    {
     "cell_type": "markdown",
     "metadata": {},
     "source": [
      "  - following a plan\n",
      "  - contract negociation\n",
      "  - processes and tools\n",
      "  - comprehensive documentation\n",
      "\n",
      "  - test at the end"
     ]
    },
    {
     "cell_type": "heading",
     "level": 1,
     "metadata": {},
     "source": [
      "agile: "
     ]
    },
    {
     "cell_type": "markdown",
     "metadata": {},
     "source": [
      "- goal: continuous enhancement"
     ]
    },
    {
     "cell_type": "markdown",
     "metadata": {},
     "source": [
      "- iterative\n",
      "- time boxed"
     ]
    },
    {
     "cell_type": "markdown",
     "metadata": {},
     "source": [
      "value/vision driven: fixed cost and schedule\n",
      "\n",
      "- brief story of agile methods \n",
      "=> framework Scrum (and XP)\n",
      "\n",
      "- roles: \n",
      "    Scrum master (stackeholder process cf. RACI), \n",
      "    product owner (stackeholder product), \n",
      "    development team (self-management)\n",
      "\n",
      "quality = working software or ROI\n",
      "\n",
      "- responding to change (flexibility)\n",
      "- customer collaboration (visibility)\n",
      "- individuals and interactions (feedback)\n",
      "- working software (quality) -> test first TDD\n",
      "\n",
      "pair programming (XP), code review\n",
      "\n",
      "product backlog -> sprint backlog -> sprint with daily stand up meetings -> potentially shippable product increment\n",
      "\n",
      "quality improvement = PDCA Plan Do Check Act/Adjust (introspection) \n",
      "traditional: only 1 PDCA \n",
      "Scrum: 3 PDCA = \n",
      "    1- customer communication\n",
      "      Check = CCC -> Adjust = product backlog -> Plan = customer -> Do = demonstration (product owner)\n",
      "    2- working software\n",
      "      Check = daily meeting -> Adjust -> Plan -> Do\n",
      "    3- collaboration and responsabilities\n",
      "      Check -> Adjust = sprint -> Plan = developer -> Do = retrospective\n",
      "      \n",
      "estimation t\u00e2ches en heures id\u00e9ales"
     ]
    },
    {
     "cell_type": "markdown",
     "metadata": {},
     "source": [
      "epics, themes, stories, cards, lines <-> unit tests"
     ]
    },
    {
     "cell_type": "heading",
     "level": 1,
     "metadata": {},
     "source": [
      "Tutorial"
     ]
    },
    {
     "cell_type": "markdown",
     "metadata": {},
     "source": [
      "atelier 10 pays 1 crit\u00e8re ?"
     ]
    },
    {
     "cell_type": "markdown",
     "metadata": {},
     "source": []
    }
   ],
   "metadata": {}
  }
 ]
}