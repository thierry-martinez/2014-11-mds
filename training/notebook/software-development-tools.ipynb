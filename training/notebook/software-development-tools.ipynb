{
 "metadata": {
  "name": "",
  "signature": "sha256:664d18316c14c5d4589e7fc7f5760037204c878021d7e8b507a8a3838b0a59d1"
 },
 "nbformat": 3,
 "nbformat_minor": 0,
 "worksheets": [
  {
   "cells": [
    {
     "cell_type": "heading",
     "level": 1,
     "metadata": {},
     "source": [
      "Software development tools"
     ]
    },
    {
     "cell_type": "markdown",
     "metadata": {},
     "source": [
      "<img src=\"images/good_code.png\">"
     ]
    },
    {
     "cell_type": "heading",
     "level": 2,
     "metadata": {},
     "source": [
      "Monday, November 24th 2014"
     ]
    },
    {
     "cell_type": "heading",
     "level": 3,
     "metadata": {},
     "source": [
      "09.30 AM - 12.30 PM"
     ]
    },
    {
     "cell_type": "markdown",
     "metadata": {},
     "source": [
      "- Training: **version control**,\n",
      "    - Break: 20 minutes,\n",
      "- Training: **build management**,\n",
      "- *Tutorial:* version control and build management."
     ]
    },
    {
     "cell_type": "heading",
     "level": 3,
     "metadata": {},
     "source": [
      "02.00 PM - 06.00 PM"
     ]
    },
    {
     "cell_type": "markdown",
     "metadata": {},
     "source": [
      "- *Tutorial:* version control and build management,\n",
      "- Training and *tutorial:* **project management**,\n",
      "    - Break: 30 minutes,\n",
      "- Training and *tutorial:* **issue tracker**,"
     ]
    },
    {
     "cell_type": "heading",
     "level": 2,
     "metadata": {},
     "source": [
      "Tuesday, November 25th 2014"
     ]
    },
    {
     "cell_type": "heading",
     "level": 3,
     "metadata": {},
     "source": [
      "09.30 AM - 12.30 PM"
     ]
    },
    {
     "cell_type": "markdown",
     "metadata": {},
     "source": [
      "- Training: **continuous integration**,\n",
      "    - Break: 20 minutes,\n",
      "- *Tutorial:* continuous integration."
     ]
    },
    {
     "cell_type": "heading",
     "level": 3,
     "metadata": {},
     "source": [
      "02.00 PM - 06.00 PM"
     ]
    },
    {
     "cell_type": "markdown",
     "metadata": {},
     "source": [
      "- Training: **unit testing**,\n",
      "    - Break: 30 minutes,\n",
      "- *Tutorial:* unit testing."
     ]
    },
    {
     "cell_type": "heading",
     "level": 2,
     "metadata": {},
     "source": [
      "Wednesday, November 26th 2014"
     ]
    },
    {
     "cell_type": "heading",
     "level": 3,
     "metadata": {},
     "source": [
      "09.30 AM - 12.30 PM"
     ]
    },
    {
     "cell_type": "markdown",
     "metadata": {},
     "source": [
      "- Training: **coding style**,\n",
      "- *Tutorial:* project management,\n",
      "    - Break: 20 minutes,\n",
      "- *Tutorial:* coding style,"
     ]
    },
    {
     "cell_type": "heading",
     "level": 3,
     "metadata": {},
     "source": [
      "02.00 PM - 06.00 PM"
     ]
    },
    {
     "cell_type": "markdown",
     "metadata": {},
     "source": [
      "- *Tutorial:* project management and unit testing,\n",
      "    - Break: 30 minutes,\n",
      "- *Tutorial:* version control."
     ]
    }
   ],
   "metadata": {}
  }
 ]
}