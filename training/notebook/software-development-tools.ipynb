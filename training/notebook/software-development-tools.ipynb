{
 "metadata": {
  "name": "",
  "signature": "sha256:9271136b659dc9edf09e4c0f87bf2c35b5947e63b66567253bf1b2c3e3231272"
 },
 "nbformat": 3,
 "nbformat_minor": 0,
 "worksheets": [
  {
   "cells": [
    {
     "cell_type": "heading",
     "level": 1,
     "metadata": {},
     "source": [
      "Software development tools"
     ]
    },
    {
     "cell_type": "markdown",
     "metadata": {},
     "source": [
      "<img src=\"images/good_code.png\">"
     ]
    },
    {
     "cell_type": "heading",
     "level": 2,
     "metadata": {},
     "source": [
      "INRIA Paris-Rocquencourt SED (development team)"
     ]
    },
    {
     "cell_type": "markdown",
     "metadata": {},
     "source": [
      "- C\u00e9dric Doucet\n",
      "- David Froger\n",
      "- Thierry Martinez\n",
      "- C\u00e9cile Stentzel"
     ]
    },
    {
     "cell_type": "heading",
     "level": 2,
     "metadata": {},
     "source": [
      "Monday, November 24th 2014"
     ]
    },
    {
     "cell_type": "heading",
     "level": 3,
     "metadata": {},
     "source": [
      "09.30 AM - 12.30 PM"
     ]
    },
    {
     "cell_type": "markdown",
     "metadata": {},
     "source": [
      "- Training: **version control** - David Froger,\n",
      "    - Break: 20 minutes,\n",
      "- Training: **build management** - Thierry Martinez,\n",
      "- *Tutorial:* version control and build management - David Froger, and Thierry Martinez."
     ]
    },
    {
     "cell_type": "heading",
     "level": 3,
     "metadata": {},
     "source": [
      "02.00 PM - 06.00 PM"
     ]
    },
    {
     "cell_type": "markdown",
     "metadata": {},
     "source": [
      "- *Tutorial:* version control and build management - David Froger, and Thierry Martinez,\n",
      "- Training and *tutorial:* **project management** - C\u00e9cile Stentzel,\n",
      "    - Break: 30 minutes,\n",
      "- Training and *tutorial:* **issue tracker** - Thierry Martinez, and C\u00e9cile Stentzel,"
     ]
    },
    {
     "cell_type": "heading",
     "level": 2,
     "metadata": {},
     "source": [
      "Tuesday, November 25th 2014"
     ]
    },
    {
     "cell_type": "heading",
     "level": 3,
     "metadata": {},
     "source": [
      "09.30 AM - 12.30 PM"
     ]
    },
    {
     "cell_type": "markdown",
     "metadata": {},
     "source": [
      "- Training: **continuous integration** - David Froger, and C\u00e9dric Doucet,\n",
      "    - Break: 20 minutes,\n",
      "- *Tutorial:* continuous integration - David Froger, and C\u00e9dric Doucet."
     ]
    },
    {
     "cell_type": "heading",
     "level": 3,
     "metadata": {},
     "source": [
      "02.00 PM - 06.00 PM"
     ]
    },
    {
     "cell_type": "markdown",
     "metadata": {},
     "source": [
      "- Training: **unit testing** - Thierry Martinez, and C\u00e9cile Stentzel,\n",
      "    - Break: 30 minutes,\n",
      "- *Tutorial:* unit testing - Thierry Martinez, and all the others."
     ]
    },
    {
     "cell_type": "heading",
     "level": 2,
     "metadata": {},
     "source": [
      "Wednesday, November 26th 2014"
     ]
    },
    {
     "cell_type": "heading",
     "level": 3,
     "metadata": {},
     "source": [
      "09.30 AM - 12.30 PM"
     ]
    },
    {
     "cell_type": "markdown",
     "metadata": {},
     "source": [
      "- Training: **coding style** - C\u00e9dric Doucet,\n",
      "- *Tutorial:* project management - C\u00e9cile Stentzel, and C\u00e9dric Doucet,\n",
      "    - Break: 20 minutes,\n",
      "- *Tutorial:* coding style - C\u00e9dric Doucet, and David Froger."
     ]
    },
    {
     "cell_type": "heading",
     "level": 3,
     "metadata": {},
     "source": [
      "02.00 PM - 06.00 PM"
     ]
    },
    {
     "cell_type": "markdown",
     "metadata": {},
     "source": [
      "- *Tutorial:* project management and unit testing - Thierry Martinez, and C\u00e9cile Stentzel,\n",
      "    - Break: 30 minutes,\n",
      "- *Tutorial:* version control - David Froger."
     ]
    },
    {
     "cell_type": "code",
     "collapsed": false,
     "input": [],
     "language": "python",
     "metadata": {},
     "outputs": []
    }
   ],
   "metadata": {}
  }
 ]
}